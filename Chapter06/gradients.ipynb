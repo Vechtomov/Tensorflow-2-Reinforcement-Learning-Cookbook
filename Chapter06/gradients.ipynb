{
 "cells": [
  {
   "cell_type": "code",
   "execution_count": 1,
   "metadata": {},
   "outputs": [],
   "source": [
    "import torch"
   ]
  },
  {
   "cell_type": "code",
   "execution_count": 35,
   "metadata": {},
   "outputs": [
    {
     "data": {
      "text/plain": [
       "[tensor([6.]), tensor([4.]), tensor([2.]), tensor([1.])]"
      ]
     },
     "execution_count": 35,
     "metadata": {},
     "output_type": "execute_result"
    }
   ],
   "source": [
    "a = torch.tensor([2.], requires_grad=True)\n",
    "b = torch.tensor([3.], requires_grad=True)\n",
    "a, b\n",
    "x = a * b\n",
    "y = x * 2\n",
    "params = [a,b,x,y]\n",
    "for p in params: p.retain_grad()\n",
    "y.backward()\n",
    "[p.grad for p in params]"
   ]
  },
  {
   "cell_type": "code",
   "execution_count": 111,
   "metadata": {},
   "outputs": [
    {
     "data": {
      "text/plain": [
       "(tensor([[10.],\n",
       "         [26.],\n",
       "         [42.]]),\n",
       " tensor([1., 2., 3., 4.]))"
      ]
     },
     "execution_count": 111,
     "metadata": {},
     "output_type": "execute_result"
    }
   ],
   "source": [
    "t = torch.arange(1, 13, dtype=torch.float).view((3,4))\n",
    "t.sum(1, keepdim=True), t[0]"
   ]
  },
  {
   "cell_type": "code",
   "execution_count": 129,
   "metadata": {},
   "outputs": [
    {
     "name": "stdout",
     "output_type": "stream",
     "text": [
      "tensor([[ 1.,  2.,  3.,  4.],\n",
      "        [ 5.,  6.,  7.,  8.],\n",
      "        [ 9., 10., 11., 12.]], requires_grad=True)\n",
      "tensor([[10.],\n",
      "        [26.],\n",
      "        [42.]], grad_fn=<SumBackward1>)\n",
      "tensor(2540., grad_fn=<SumBackward0>)\n"
     ]
    },
    {
     "data": {
      "text/plain": [
       "[tensor([[20., 20., 20., 20.],\n",
       "         [52., 52., 52., 52.],\n",
       "         [84., 84., 84., 84.]]),\n",
       " tensor([[10.],\n",
       "         [26.],\n",
       "         [42.]]),\n",
       " tensor(1.)]"
      ]
     },
     "execution_count": 129,
     "metadata": {},
     "output_type": "execute_result"
    }
   ],
   "source": [
    "a = torch.arange(1, 13, dtype=torch.float).view((3,4))#.view((1,12))#.view((3,4))\n",
    "a.requires_grad=True\n",
    "b = torch.arange(1, 4, dtype=torch.float).view((3,1))\n",
    "b.requires_grad=True\n",
    "c = a.sum(1, keepdim=True)\n",
    "d = (a * c).sum()\n",
    "# cc = c**(0.5)\n",
    "# d = a * cc\n",
    "# e = d.sum()\n",
    "params = [a,c,d]\n",
    "for p in params:\n",
    "    print(p)\n",
    "    p.retain_grad()\n",
    "params[-1].backward()\n",
    "[p.grad for p in params]"
   ]
  },
  {
   "cell_type": "code",
   "execution_count": 136,
   "metadata": {},
   "outputs": [
    {
     "data": {
      "text/plain": [
       "tensor([[20., 20., 20., 20.],\n",
       "        [52., 52., 52., 52.],\n",
       "        [84., 84., 84., 84.]], grad_fn=<AddBackward0>)"
      ]
     },
     "execution_count": 136,
     "metadata": {},
     "output_type": "execute_result"
    }
   ],
   "source": [
    "(c + a.sum(1, keepdim=True).repeat(1,a.shape[1]))"
   ]
  },
  {
   "cell_type": "code",
   "execution_count": null,
   "metadata": {},
   "outputs": [],
   "source": []
  }
 ],
 "metadata": {
  "kernelspec": {
   "display_name": "Python 3.9.2 64-bit",
   "language": "python",
   "name": "python3"
  },
  "language_info": {
   "codemirror_mode": {
    "name": "ipython",
    "version": 3
   },
   "file_extension": ".py",
   "mimetype": "text/x-python",
   "name": "python",
   "nbconvert_exporter": "python",
   "pygments_lexer": "ipython3",
   "version": "3.9.2"
  },
  "orig_nbformat": 4,
  "vscode": {
   "interpreter": {
    "hash": "87ca4934905532d15cbd0e1b39f8ec7c82379aae06d4434255c4ab2516c6087a"
   }
  }
 },
 "nbformat": 4,
 "nbformat_minor": 2
}
