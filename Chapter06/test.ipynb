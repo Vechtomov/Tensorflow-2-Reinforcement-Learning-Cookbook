{
 "cells": [
  {
   "cell_type": "code",
   "execution_count": 1,
   "metadata": {},
   "outputs": [],
   "source": [
    "import gym\n",
    "import webgym\n",
    "import matplotlib.pyplot as plt\n",
    "import numpy as np\n",
    "from webgym import envs\n",
    "import random\n",
    "import time"
   ]
  },
  {
   "cell_type": "code",
   "execution_count": null,
   "metadata": {},
   "outputs": [],
   "source": [
    "# env_name = \"MiniWoBClickButtonVisualEnv-v0\"\n",
    "# env = gym.make(env_name)"
   ]
  },
  {
   "cell_type": "code",
   "execution_count": null,
   "metadata": {},
   "outputs": [],
   "source": [
    "# env = envs.MiniWoBVisualClickEnv('click-button')"
   ]
  },
  {
   "cell_type": "code",
   "execution_count": 2,
   "metadata": {},
   "outputs": [],
   "source": [
    "env = envs.MiniWoBEnv(\"click-test\", obs_im_shape=(224, 224), headless = False)"
   ]
  },
  {
   "cell_type": "code",
   "execution_count": 3,
   "metadata": {},
   "outputs": [],
   "source": [
    "state = env.reset()"
   ]
  },
  {
   "cell_type": "code",
   "execution_count": 4,
   "metadata": {},
   "outputs": [
    {
     "data": {
      "text/plain": [
       "<matplotlib.image.AxesImage at 0x7f389b6a7100>"
      ]
     },
     "execution_count": 4,
     "metadata": {},
     "output_type": "execute_result"
    },
    {
     "data": {
      "image/png": "[encoded data removed]",
      "text/plain": [
       "<Figure size 432x288 with 1 Axes>"
      ]
     },
     "metadata": {
      "needs_background": "light"
     },
     "output_type": "display_data"
    }
   ],
   "source": [
    "plt.imshow(state[0])"
   ]
  },
  {
   "cell_type": "code",
   "execution_count": null,
   "metadata": {},
   "outputs": [],
   "source": [
    "states, rewards, dones, info = env.step([envs.MiniWoBCoordClick(30, 85)])\n",
    "states, rewards, dones, info"
   ]
  },
  {
   "cell_type": "code",
   "execution_count": null,
   "metadata": {},
   "outputs": [],
   "source": [
    "def get_action(state):\n",
    "    # x, y = random.randint(0, 160), random.randint(0, 210)\n",
    "    if random.randint(1, 20) > 19:\n",
    "        x, y = 30, 85\n",
    "    else:\n",
    "        x, y = 10 + random.randint(1, 20), 10 + random.randint(1, 20)\n",
    "    return envs.MiniWoBCoordClick(x, y)\n",
    "\n",
    "total_reward = 0\n",
    "\n",
    "for ep in range(10):\n",
    "    episode_reward, done = 0, False\n",
    "    state = env.reset()\n",
    "    while True:\n",
    "        states, rewards, dones, info = env.step([get_action(state)])\n",
    "        episode_reward = rewards[0]\n",
    "        total_reward += episode_reward\n",
    "        state, done = states[0], dones[0]\n",
    "        if done:\n",
    "            break\n",
    "\n",
    "        time.sleep(0.3)\n",
    "\n",
    "    print(ep, episode_reward)\n",
    "\n",
    "print(total_reward)"
   ]
  },
  {
   "cell_type": "code",
   "execution_count": 5,
   "metadata": {},
   "outputs": [
    {
     "name": "stderr",
     "output_type": "stream",
     "text": [
      "WARNING:urllib3.connectionpool:Retrying (Retry(total=2, connect=None, read=None, redirect=None, status=None)) after connection broken by 'NewConnectionError('<urllib3.connection.HTTPConnection object at 0x7f389c409f70>: Failed to establish a new connection: [Errno 111] Connection refused')': /session/de4240f73b243f9e5b88e5c23de216d7\n",
      "WARNING:urllib3.connectionpool:Retrying (Retry(total=1, connect=None, read=None, redirect=None, status=None)) after connection broken by 'NewConnectionError('<urllib3.connection.HTTPConnection object at 0x7f389b732070>: Failed to establish a new connection: [Errno 111] Connection refused')': /session/de4240f73b243f9e5b88e5c23de216d7\n",
      "WARNING:urllib3.connectionpool:Retrying (Retry(total=0, connect=None, read=None, redirect=None, status=None)) after connection broken by 'NewConnectionError('<urllib3.connection.HTTPConnection object at 0x7f389b68f430>: Failed to establish a new connection: [Errno 111] Connection refused')': /session/de4240f73b243f9e5b88e5c23de216d7\n"
     ]
    }
   ],
   "source": [
    "env.close()"
   ]
  },
  {
   "cell_type": "code",
   "execution_count": null,
   "metadata": {},
   "outputs": [],
   "source": [
    "env.action_space"
   ]
  },
  {
   "cell_type": "code",
   "execution_count": null,
   "metadata": {},
   "outputs": [],
   "source": [
    "env.action_space.shape"
   ]
  },
  {
   "cell_type": "code",
   "execution_count": null,
   "metadata": {},
   "outputs": [],
   "source": [
    "env.observation_space.shape"
   ]
  }
 ],
 "metadata": {
  "interpreter": {
   "hash": "916dbcbb3f70747c44a77c7bcd40155683ae19c65e1c03b4aa3499c5328201f1"
  },
  "kernelspec": {
   "display_name": "Python 3.8.10 64-bit",
   "language": "python",
   "name": "python3"
  },
  "language_info": {
   "codemirror_mode": {
    "name": "ipython",
    "version": 3
   },
   "file_extension": ".py",
   "mimetype": "text/x-python",
   "name": "python",
   "nbconvert_exporter": "python",
   "pygments_lexer": "ipython3",
   "version": "3.8.10"
  },
  "orig_nbformat": 4,
  "vscode": {
   "interpreter": {
    "hash": "87ca4934905532d15cbd0e1b39f8ec7c82379aae06d4434255c4ab2516c6087a"
   }
  }
 },
 "nbformat": 4,
 "nbformat_minor": 2
}
