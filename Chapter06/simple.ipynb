{
 "cells": [
  {
   "cell_type": "code",
   "execution_count": 1,
   "metadata": {},
   "outputs": [],
   "source": [
    "import torch\n",
    "import torch.nn as nn\n",
    "import torch.nn.functional as F"
   ]
  },
  {
   "cell_type": "code",
   "execution_count": 2,
   "metadata": {},
   "outputs": [],
   "source": [
    "def generate_task(size, w=1, h=1, r=-1, c=-1):\n",
    "    inp = torch.zeros(size)\n",
    "    row = r if r > -1 else torch.randint(high=inp.shape[0]+1-h, size=(1,))\n",
    "    col = c if c > -1 else torch.randint(high=inp.shape[1]+1-w, size=(1,))\n",
    "    inp[row:row+h, col:col+w] = 1\n",
    "    y = (row+h / 2) / inp.shape[0]\n",
    "    x = (col+w / 2) / inp.shape[1]\n",
    "    return inp, (x,y)\n",
    "\n",
    "def generate_task_multi(n, size, w=1, h=1):\n",
    "    tasks = [generate_task(size, w, h) for _ in range(n)]\n",
    "    inputs = torch.cat([t[0].unsqueeze(0) for t in tasks])\n",
    "    targets = torch.cat([torch.Tensor(t[1]).unsqueeze(0) for t in tasks])\n",
    "    return inputs, targets"
   ]
  },
  {
   "cell_type": "code",
   "execution_count": 3,
   "metadata": {},
   "outputs": [
    {
     "data": {
      "text/plain": [
       "(tensor([[0., 0., 0.],\n",
       "         [0., 0., 1.],\n",
       "         [0., 0., 0.]]),\n",
       " (0.8333333333333334, 0.5))"
      ]
     },
     "execution_count": 3,
     "metadata": {},
     "output_type": "execute_result"
    }
   ],
   "source": [
    "generate_task((3,3),r=1,c=2)"
   ]
  },
  {
   "cell_type": "code",
   "execution_count": 4,
   "metadata": {},
   "outputs": [
    {
     "data": {
      "text/plain": [
       "(tensor([[[0., 1., 0.],\n",
       "          [0., 0., 0.],\n",
       "          [0., 0., 0.]],\n",
       " \n",
       "         [[0., 0., 0.],\n",
       "          [0., 0., 0.],\n",
       "          [0., 1., 0.]]]),\n",
       " tensor([[0.5000, 0.1667],\n",
       "         [0.5000, 0.8333]]))"
      ]
     },
     "execution_count": 4,
     "metadata": {},
     "output_type": "execute_result"
    }
   ],
   "source": [
    "generate_task_multi(2, (3,3))"
   ]
  },
  {
   "cell_type": "code",
   "execution_count": 5,
   "metadata": {},
   "outputs": [],
   "source": [
    "class SimpleNet(nn.Module):\n",
    "    def __init__(self) -> None:\n",
    "        super().__init__()\n",
    "        self.l1 = nn.Linear(9, 6)\n",
    "        # self.l1 = nn.Linear(9, 10)\n",
    "        # self.l2 = nn.Linear(10, 4)\n",
    "        self.l3 = nn.Linear(6, 2)\n",
    "\n",
    "    def forward(self, x):\n",
    "        x = self.l1(x)\n",
    "        x = F.relu(x)\n",
    "        # x = self.l2(x)\n",
    "        # x = F.relu(x)\n",
    "        x = self.l3(x)\n",
    "        return F.sigmoid(x)"
   ]
  },
  {
   "cell_type": "code",
   "execution_count": 6,
   "metadata": {},
   "outputs": [
    {
     "name": "stderr",
     "output_type": "stream",
     "text": [
      "c:\\Users\\Михаил\\AppData\\Local\\Programs\\Python\\Python39\\lib\\site-packages\\torch\\nn\\functional.py:1960: UserWarning: nn.functional.sigmoid is deprecated. Use torch.sigmoid instead.\n",
      "  warnings.warn(\"nn.functional.sigmoid is deprecated. Use torch.sigmoid instead.\")\n"
     ]
    },
    {
     "data": {
      "text/plain": [
       "tensor([0.5370, 0.4988], grad_fn=<SigmoidBackward0>)"
      ]
     },
     "execution_count": 6,
     "metadata": {},
     "output_type": "execute_result"
    }
   ],
   "source": [
    "n = SimpleNet()\n",
    "n(torch.rand(3,3).flatten())"
   ]
  },
  {
   "cell_type": "code",
   "execution_count": 7,
   "metadata": {},
   "outputs": [
    {
     "data": {
      "text/plain": [
       "[Parameter containing:\n",
       " tensor([[-0.3328, -0.0636,  0.2452,  0.0604, -0.1827,  0.0234,  0.1259, -0.1498,\n",
       "          -0.3225],\n",
       "         [ 0.1021,  0.1426, -0.2504,  0.2056, -0.2841,  0.1154,  0.0356,  0.1212,\n",
       "           0.1263],\n",
       "         [ 0.0772,  0.0221, -0.0717,  0.2704, -0.0884, -0.0422,  0.2128, -0.1992,\n",
       "           0.0631],\n",
       "         [-0.0301, -0.0435, -0.2483, -0.2108, -0.2118, -0.2234,  0.0784,  0.0448,\n",
       "          -0.0629],\n",
       "         [ 0.2877, -0.2847, -0.1376,  0.0502, -0.2650, -0.0140,  0.1406,  0.1641,\n",
       "          -0.0381],\n",
       "         [ 0.2274,  0.0945,  0.1834,  0.0388,  0.2971, -0.0749, -0.2361, -0.3216,\n",
       "           0.3275]], requires_grad=True),\n",
       " Parameter containing:\n",
       " tensor([-0.0329,  0.2423,  0.0746,  0.1044,  0.1100, -0.0199],\n",
       "        requires_grad=True)]"
      ]
     },
     "execution_count": 7,
     "metadata": {},
     "output_type": "execute_result"
    }
   ],
   "source": [
    "list(n.l1.parameters())"
   ]
  },
  {
   "cell_type": "code",
   "execution_count": null,
   "metadata": {},
   "outputs": [],
   "source": [
    "net = SimpleNet()\n",
    "optimizer = torch.optim.Adam(net.parameters(), lr=1e-1)\n",
    "batch_size = 1000\n",
    "\n",
    "for ep in range(200):\n",
    "    inputs, targets = generate_task_multi(batch_size, (3,3))\n",
    "    outputs = net(inputs.reshape(batch_size, -1))\n",
    "    optimizer.zero_grad()\n",
    "    l = F.mse_loss(outputs, targets)\n",
    "    l.backward()\n",
    "    optimizer.step()\n",
    "    print(l.item())"
   ]
  },
  {
   "cell_type": "code",
   "execution_count": 14,
   "metadata": {},
   "outputs": [
    {
     "data": {
      "text/plain": [
       "[Parameter containing:\n",
       " tensor([[-8.1249e-01,  9.4146e-01,  1.5088e+00, -9.4994e-01, -7.2831e-01,\n",
       "          -1.0574e+00, -1.2965e-02, -7.6676e-01, -7.2392e-01],\n",
       "         [-1.1611e+00, -4.5299e-01,  2.3863e-01, -2.4867e-01, -1.7436e-01,\n",
       "           1.0501e+00, -1.5058e+00,  7.6804e-01,  1.9277e+00],\n",
       "         [-2.9835e-01, -2.2615e-01, -2.0322e-01,  1.2935e+00, -5.4868e-01,\n",
       "          -2.3041e-01, -1.3808e-01, -2.5425e-01, -7.7509e-01],\n",
       "         [-2.2390e-03, -4.8303e-01, -1.8564e-01, -4.6475e-01, -3.2737e-01,\n",
       "           1.3427e+00, -4.5625e-01, -4.3538e-01,  1.1170e-03],\n",
       "         [-6.6414e-01, -1.3722e-01, -5.0046e-01, -6.9698e-01, -2.1085e+00,\n",
       "          -4.4774e-01,  9.6433e-01,  7.7577e-01,  1.8755e-01],\n",
       "         [ 1.0511e+00,  7.1986e-01,  3.8167e-01, -1.6978e-01, -1.2524e+00,\n",
       "           1.4188e+00, -1.1793e+00,  7.6292e-01,  1.2019e+00]],\n",
       "        requires_grad=True),\n",
       " Parameter containing:\n",
       " tensor([ 0.3085,  0.9056, -0.2729, -0.4905,  1.5498,  0.8669],\n",
       "        requires_grad=True),\n",
       " Parameter containing:\n",
       " tensor([[ 0.9451,  1.2613, -1.0405,  1.0585, -0.3844, -0.1808],\n",
       "         [-1.0050,  0.8828, -0.1205,  0.0243,  1.0150, -0.9714]],\n",
       "        requires_grad=True),\n",
       " Parameter containing:\n",
       " tensor([-0.9222, -0.6454], requires_grad=True)]"
      ]
     },
     "execution_count": 14,
     "metadata": {},
     "output_type": "execute_result"
    }
   ],
   "source": [
    "list(net.parameters())"
   ]
  },
  {
   "cell_type": "code",
   "execution_count": 9,
   "metadata": {},
   "outputs": [
    {
     "data": {
      "text/plain": [
       "tensor([[1., 0., 0., 0., 1., 0., 0., 0., 1.],\n",
       "        [1., 0., 0., 0., 1., 0., 0., 0., 1.]])"
      ]
     },
     "execution_count": 9,
     "metadata": {},
     "output_type": "execute_result"
    }
   ],
   "source": [
    "torch.cat([torch.eye(3).unsqueeze(0), torch.eye(3).unsqueeze(0)]).reshape(2, -1)"
   ]
  },
  {
   "cell_type": "code",
   "execution_count": 13,
   "metadata": {},
   "outputs": [
    {
     "data": {
      "text/plain": [
       "(tensor([[0., 0., 0.],\n",
       "         [1., 0., 0.],\n",
       "         [0., 0., 0.]]),\n",
       " (tensor([0.1667]), tensor([0.5000])),\n",
       " tensor([0.1667, 0.5000], grad_fn=<SigmoidBackward0>))"
      ]
     },
     "execution_count": 13,
     "metadata": {},
     "output_type": "execute_result"
    }
   ],
   "source": [
    "t, r = generate_task((3,3))\n",
    "t, r, net(t.flatten())"
   ]
  }
 ],
 "metadata": {
  "kernelspec": {
   "display_name": "Python 3.9.2 64-bit",
   "language": "python",
   "name": "python3"
  },
  "language_info": {
   "codemirror_mode": {
    "name": "ipython",
    "version": 3
   },
   "file_extension": ".py",
   "mimetype": "text/x-python",
   "name": "python",
   "nbconvert_exporter": "python",
   "pygments_lexer": "ipython3",
   "version": "3.9.2"
  },
  "orig_nbformat": 4,
  "vscode": {
   "interpreter": {
    "hash": "87ca4934905532d15cbd0e1b39f8ec7c82379aae06d4434255c4ab2516c6087a"
   }
  }
 },
 "nbformat": 4,
 "nbformat_minor": 2
}
